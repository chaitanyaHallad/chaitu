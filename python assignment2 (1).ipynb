{
 "cells": [
  {
   "cell_type": "code",
   "execution_count": 1,
   "metadata": {},
   "outputs": [
    {
     "name": "stdout",
     "output_type": "stream",
     "text": [
      "Enter your name:shruti\n",
      "Enter your age:22\n",
      "Enter your Course:computer science\n",
      "Enter your contact_no:998071\n",
      "The name you had entered:shruti\n",
      "The age you had entered:22\n",
      "The course you had enterd:computer science\n",
      "The contact_no you had entered:998071\n",
      "conformation is:true\n"
     ]
    }
   ],
   "source": [
    "#Assignment-2 date=14-7-2020\n",
    "name=input(\"Enter your name:\")\n",
    "age=int(input(\"Enter your age:\"))\n",
    "course=input(\"Enter your Course:\")\n",
    "contact_no=int(input(\"Enter your contact_no:\"))\n",
    "print(f\"The name you had entered:{name}\")\n",
    "print(f\"The age you had entered:{age}\")\n",
    "print(f\"The course you had enterd:{course}\" )\n",
    "print(f\"The contact_no you had entered:{contact_no}\" )\n",
    "conformation=input(\"conformation is:\")"
   ]
  },
  {
   "cell_type": "code",
   "execution_count": null,
   "metadata": {},
   "outputs": [],
   "source": []
  }
 ],
 "metadata": {
  "kernelspec": {
   "display_name": "Python 3",
   "language": "python",
   "name": "python3"
  },
  "language_info": {
   "codemirror_mode": {
    "name": "ipython",
    "version": 3
   },
   "file_extension": ".py",
   "mimetype": "text/x-python",
   "name": "python",
   "nbconvert_exporter": "python",
   "pygments_lexer": "ipython3",
   "version": "3.7.4"
  }
 },
 "nbformat": 4,
 "nbformat_minor": 2
}
